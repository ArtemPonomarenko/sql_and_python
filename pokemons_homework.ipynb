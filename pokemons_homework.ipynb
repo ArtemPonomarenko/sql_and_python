{
 "cells": [
  {
   "cell_type": "code",
   "execution_count": null,
   "metadata": {},
   "outputs": [],
   "source": [
    "#Schema at https://dbdiagram.io/d/63223c6e0911f91ba5b12259"
   ]
  },
  {
   "cell_type": "code",
   "execution_count": null,
   "metadata": {},
   "outputs": [],
   "source": [
    "# Importing sqlalchemy\n",
    "import sqlalchemy as sql"
   ]
  },
  {
   "cell_type": "code",
   "execution_count": null,
   "metadata": {},
   "outputs": [],
   "source": [
    "# Some more imports.\n",
    "import os\n",
    "import sys\n",
    "from sqlalchemy import Column, ForeignKey, Integer, String, Boolean\n",
    "from sqlalchemy.ext.declarative import declarative_base\n",
    "from sqlalchemy.orm import relationship\n",
    "from sqlalchemy import create_engine\n",
    "from sqlalchemy.orm import sessionmaker"
   ]
  },
  {
   "cell_type": "code",
   "execution_count": null,
   "metadata": {},
   "outputs": [],
   "source": [
    "Base = declarative_base()\n",
    "\n",
    "class Pokemons(Base):\n",
    "    __tablename__ = 'pokemons'\n",
    "    id = Column(Integer, primary_key=True)\n",
    "    pokemon_name = Column(String(50), nullable=False)\n",
    "    total = Column(Integer, nullable=False)\n",
    "    hp = Column(Integer, nullable=False)\n",
    "    attack = Column(Integer, nullable=False)\n",
    "    defense = Column(Integer, nullable=False)\n",
    "    sp_attack = Column(Integer, nullable=False)\n",
    "    sp_defense = Column(Integer, nullable=False)\n",
    "    speed = Column(Integer, nullable=False)\n",
    "    legendary = Column(Boolean, nullable=False)\n",
    "\n",
    "    type_1 = Column(Integer, ForeignKey('types.id'))\n",
    "    type_2 = Column(Integer, ForeignKey('types.id'))\n",
    "    generation = Column(Integer,ForeignKey('generations.id'), nullable=False)\n",
    "\n",
    "    # I DON'T KNOW WHAT THESE DO =/\n",
    "    # types = relationship(\"Types\", back_populates=\"pokemons\")\n",
    "    # generations = relationship(\"Generations\", back_populates=\"pokemons\")\n",
    "\n",
    "class Generations(Base):\n",
    "    __tablename__ = 'generations'\n",
    "    id = Column(Integer, primary_key=True)\n",
    "    generation = Column(Integer, nullable=False)\n",
    "    #I am not sure about these....\n",
    "    # pokemons = relationship(\"Pokemons\", back_populates=\"generations\")\n",
    "\n",
    "class Types(Base):\n",
    "    __tablename__ = 'types'\n",
    "    id = Column(Integer, primary_key=True)\n",
    "    type_name = Column(String(50), nullable=False)\n",
    "    #I am not sure about these....\n",
    "    # pokemons = relationship(\"Pokemons\", back_populates=\"types\")\n",
    "\n",
    "\n",
    "# Create an engine that stores data in the local directory's\n",
    "engine = create_engine('sqlite:///pokemon_shop.db')\n",
    "\n",
    "# Create all tables in the engine. This is equivalent to \"Create Table\"\n",
    "# statements in raw SQL.\n",
    "Base.metadata.create_all(engine)"
   ]
  },
  {
   "cell_type": "code",
   "execution_count": null,
   "metadata": {},
   "outputs": [],
   "source": [
    "# Bind the engine to the metadata of the Base class so that the\n",
    "# declaratives can be accessed through a DBSession instance\n",
    "Base.metadata.bind = engine\n",
    "\n",
    "DBSession = sessionmaker(bind=engine)\n",
    "# A DBSession() instance establishes all conversations with the database\n",
    "# and represents a \"staging zone\" for all the objects loaded into the\n",
    "# database session object. Any change made against the objects in the\n",
    "# session won't be persisted into the database until you call\n",
    "# session.commit(). If you're not happy about the changes, you can\n",
    "# revert all of them back to the last commit by calling\n",
    "# session.rollback()\n",
    "session = DBSession()"
   ]
  },
  {
   "cell_type": "code",
   "execution_count": null,
   "metadata": {},
   "outputs": [],
   "source": [
    "#Here we move csv data to our new database.\n",
    "import csv\n",
    "filename = 'Pokemons.csv'\n",
    "#Step One. Retrieve types and generations.\n",
    "types = []\n",
    "generations = []\n",
    "\n",
    "with open(filename, 'r') as csvfile:\n",
    "    datareader = csv.reader(csvfile)\n",
    "    for row in datareader:\n",
    "        #First row is a header with column names. Skip it\n",
    "        if row[0] == \"#\":\n",
    "            continue\n",
    "        #Grab type 1 and 2 from a row\n",
    "        type_1 = row[2]\n",
    "        type_2 = row[3]\n",
    "        #Grab generation and transforming it into a number. Add it to list.\n",
    "        generation = int(row[11])\n",
    "        generations.append(generation)\n",
    "        #Because we need unique types - check if the type is already on the list.\n",
    "        if type_1 not in types:\n",
    "            types.append(type_1)\n",
    "        else: continue\n",
    "        \n",
    "        if type_2 not in types:\n",
    "            types.append(type_2)\n",
    "        else: continue\n",
    "#Add types and generations to their tables.       \n",
    "for i in types:\n",
    "    new_type = Types(type_name=i)\n",
    "    session.add(new_type)\n",
    "    session.commit()\n",
    "for i in list(set(generations)):\n",
    "    new_generation = Generations(generation=i)\n",
    "    session.add(new_generation)\n",
    "    session.commit()"
   ]
  },
  {
   "cell_type": "code",
   "execution_count": null,
   "metadata": {},
   "outputs": [],
   "source": [
    "#Step Two. Retrieve Pokemons.\n",
    "with open(filename, 'r') as csvfile:\n",
    "    datareader = csv.reader(csvfile)\n",
    "    for row in datareader:\n",
    "        #Skip header.\n",
    "        if row[0] == \"#\":\n",
    "            continue\n",
    "        #Grab values. Transform strings to numbers where needed.\n",
    "        name = row[1]\n",
    "        type_1 = row[2]\n",
    "        type_2 = row[3]\n",
    "        #Because for this table we need foreing keys as numbers - grab them from the list above. Add 1 coz 0 is 1 xD\n",
    "        type_1_index = types.index(type_1)+1\n",
    "        type_2_index = types.index(type_2)+1\n",
    "        total = int(row[4])\n",
    "        hp = int(row[5])\n",
    "        attack = int(row[6])\n",
    "        defense = int(row[7])\n",
    "        sp_attack = int(row[8])\n",
    "        sp_defense = int(row[9])\n",
    "        speed = int(row[10])\n",
    "        generation = int(row[11])\n",
    "        #Ternary operator for legendary parameter.\n",
    "        legendary = False if row[12] == \"False\" else True\n",
    "        #Create new pokemon and add it to the database.\n",
    "        new_pokemon = Pokemons(\n",
    "            pokemon_name = name,\n",
    "            total = total,\n",
    "            hp = hp,\n",
    "            attack = attack,\n",
    "            defense = defense,\n",
    "            sp_attack = sp_attack,\n",
    "            sp_defense = sp_defense,\n",
    "            speed = speed,\n",
    "            legendary = legendary,\n",
    "            #Indexes go here not values\n",
    "            type_1 = type_1_index,\n",
    "            type_2 = type_2_index,\n",
    "            generation = generation\n",
    "        )\n",
    "        session.add(new_pokemon)\n",
    "        session.commit() "
   ]
  },
  {
   "cell_type": "code",
   "execution_count": null,
   "metadata": {},
   "outputs": [],
   "source": [
    "#Print all pokemons.\n",
    "s = sql.select([Pokemons])\n",
    "rp = session.execute(s)\n",
    "results = rp.fetchall()\n",
    "for i in results:\n",
    "    print(i.Pokemons.pokemon_name, i.Pokemons.type_1, i.Pokemons.type_2, i.Pokemons.total,i.Pokemons.hp, i.Pokemons.attack, i.Pokemons.defense, i.Pokemons.sp_attack, i.Pokemons.sp_defense, i.Pokemons.speed, i.Pokemons.generation, i.Pokemons.legendary)"
   ]
  },
  {
   "cell_type": "code",
   "execution_count": null,
   "metadata": {},
   "outputs": [],
   "source": []
  },
  {
   "cell_type": "code",
   "execution_count": null,
   "metadata": {},
   "outputs": [],
   "source": [
    "#Print all types with indexes.\n",
    "s = sql.select([Types])\n",
    "rp = session.execute(s)\n",
    "results = rp.fetchall()\n",
    "\n",
    "# for i in results:\n",
    "#     print(i.Types.type_name, i.Types.id)"
   ]
  },
  {
   "cell_type": "code",
   "execution_count": null,
   "metadata": {},
   "outputs": [],
   "source": [
    "#Print all generations with indexes.\n",
    "s = sql.select([Generations])\n",
    "rp = session.execute(s)\n",
    "results = rp.fetchall()\n",
    "# for i in results:\n",
    "#     print(i.Generations.generation, i.Generations.id)\n"
   ]
  },
  {
   "cell_type": "code",
   "execution_count": null,
   "metadata": {},
   "outputs": [],
   "source": [
    "\n",
    "\n",
    "\n",
    "# Example with a where statement.\n",
    "s = sql.select([Generations]).where(Generations.id == 1)\n",
    "rp = session.execute(s)\n",
    "results = rp.fetchall()\n",
    "# results\n",
    "\n",
    "s = \"SELECT * FROM pokemons\"\n",
    "rp = session.execute(s)\n",
    "results = rp.fetchall()\n",
    "# results\n",
    "\n",
    "s = \"SELECT pokemon_name, attack, type_name FROM pokemons, types WHERE types.id = pokemons.type_1 GROUP BY attack\"\n",
    "rp = session.execute(s)\n",
    "results = rp.fetchall()\n",
    "# results"
   ]
  },
  {
   "cell_type": "code",
   "execution_count": null,
   "metadata": {},
   "outputs": [],
   "source": [
    "# Notice anything different about the query?\n",
    "s = session.query(Pokemons)\n",
    "s = s.filter(Pokemons.id == 1)\n",
    "\n",
    "# Update example.\n",
    "s.update({Pokemons.hp: 45})\n",
    "session.commit()"
   ]
  },
  {
   "cell_type": "code",
   "execution_count": null,
   "metadata": {},
   "outputs": [],
   "source": [
    "#Add one super strong pokemon:\n",
    "super_pokemon = Pokemons(\n",
    "            pokemon_name = \"Tyranauseras X 3000\",\n",
    "            total = 10000,\n",
    "            hp = 500,\n",
    "            attack = 500,\n",
    "            defense = 500,\n",
    "            sp_attack = 500,\n",
    "            sp_defense = 500,\n",
    "            speed = 500,\n",
    "            legendary = True,\n",
    "            #Indexes go here not values\n",
    "            type_1 = 13,\n",
    "            type_2 = 10,\n",
    "            generation = 5\n",
    "        )\n",
    "session.add(super_pokemon)\n",
    "session.commit() \n",
    "\n",
    "s = session.query(Pokemons)\n",
    "s = s.filter(Pokemons.attack == 500)\n",
    "rp = session.execute(s)\n",
    "results = rp.fetchall()\n",
    "for i in results:\n",
    "    print(i.Pokemons.id, i.Pokemons.pokemon_name, i.Pokemons.type_1, i.Pokemons.type_2, i.Pokemons.total,i.Pokemons.hp, i.Pokemons.attack, i.Pokemons.defense, i.Pokemons.sp_attack, i.Pokemons.sp_defense, i.Pokemons.speed, i.Pokemons.generation, i.Pokemons.legendary)"
   ]
  },
  {
   "cell_type": "code",
   "execution_count": null,
   "metadata": {},
   "outputs": [],
   "source": [
    "# Delete example\n",
    "s = sql.delete(Pokemons).where(Pokemons.id >= 800)\n",
    "rp = session.execute(s)"
   ]
  },
  {
   "cell_type": "code",
   "execution_count": null,
   "metadata": {},
   "outputs": [],
   "source": [
    "# Closing session.\n",
    "session.close()"
   ]
  }
 ],
 "metadata": {
  "kernelspec": {
   "display_name": "Python 3.9.12 ('base')",
   "language": "python",
   "name": "python3"
  },
  "language_info": {
   "codemirror_mode": {
    "name": "ipython",
    "version": 3
   },
   "file_extension": ".py",
   "mimetype": "text/x-python",
   "name": "python",
   "nbconvert_exporter": "python",
   "pygments_lexer": "ipython3",
   "version": "3.9.13"
  },
  "orig_nbformat": 4,
  "vscode": {
   "interpreter": {
    "hash": "3072bc24971c46a39d3bf7b087f3dcb97fdcabd0812fd462d579834c9e001dab"
   }
  }
 },
 "nbformat": 4,
 "nbformat_minor": 2
}
